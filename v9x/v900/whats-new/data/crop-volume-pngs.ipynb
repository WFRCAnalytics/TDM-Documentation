{
 "cells": [
  {
   "cell_type": "code",
   "execution_count": 3,
   "metadata": {},
   "outputs": [],
   "source": [
    "from PIL import Image"
   ]
  },
  {
   "cell_type": "code",
   "execution_count": 4,
   "metadata": {},
   "outputs": [],
   "source": [
    "# 150%, Home button, zoom out once, F11, change basemap to non-labeled --- Windows+Shift+S click upright screen\n",
    "im = Image.open('map_pngs/vol19.png')\n",
    "im_crop = im.crop((400, 400, 800, 1600))\n",
    "im_crop.save('map_pngs/vol19-cropped.png', quality=1000)"
   ]
  },
  {
   "cell_type": "code",
   "execution_count": 8,
   "metadata": {},
   "outputs": [],
   "source": [
    "def cropImage(pngName):\n",
    "    im = Image.open('map_pngs/' + pngName + '.png')\n",
    "    im_crop = im.crop((400, 400, 800, 1600))\n",
    "    im_crop.save('map_pngs/' + pngName + '-cropped.png', quality=1000)"
   ]
  },
  {
   "cell_type": "code",
   "execution_count": 10,
   "metadata": {},
   "outputs": [],
   "source": [
    "cropImage('vol19')\n",
    "cropImage('vol50')"
   ]
  },
  {
   "cell_type": "code",
   "execution_count": null,
   "metadata": {},
   "outputs": [],
   "source": []
  }
 ],
 "metadata": {
  "kernelspec": {
   "display_name": "base",
   "language": "python",
   "name": "python3"
  },
  "language_info": {
   "codemirror_mode": {
    "name": "ipython",
    "version": 3
   },
   "file_extension": ".py",
   "mimetype": "text/x-python",
   "name": "python",
   "nbconvert_exporter": "python",
   "pygments_lexer": "ipython3",
   "version": "3.9.13"
  },
  "orig_nbformat": 4
 },
 "nbformat": 4,
 "nbformat_minor": 2
}
