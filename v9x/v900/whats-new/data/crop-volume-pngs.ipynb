{
 "cells": [
  {
   "cell_type": "code",
   "execution_count": 2,
   "metadata": {},
   "outputs": [],
   "source": [
    "from PIL import Image"
   ]
  },
  {
   "cell_type": "code",
   "execution_count": 12,
   "metadata": {},
   "outputs": [],
   "source": [
    "# 150%, Home button, zoom out once, F11, change basemap to non-labeled --- Windows+Shift+S click upright screen\n",
    "# legend: expand legend window all the way to bottom of screen\n",
    "im = Image.open('map_pngs/comparisons/uncropped_2028_2024_MAP.png')\n",
    "im_crop = im.crop((400, 400, 800, 1600))\n",
    "im_crop.save('map_pngs/comparisons/2028_2028_MAP.png', quality=1000)"
   ]
  },
  {
   "cell_type": "code",
   "execution_count": 7,
   "metadata": {},
   "outputs": [],
   "source": [
    "im = Image.open('map_pngs/comparisons/uncropped_2019_LEGEND.png')\n",
    "im_crop = im.crop((480, 370, 830, 920))\n",
    "im_crop.save('map_pngs/comparisons/2019_LEGEND.png', quality=1000)"
   ]
  },
  {
   "cell_type": "code",
   "execution_count": 3,
   "metadata": {},
   "outputs": [],
   "source": [
    "#def cropImage(pngName):\n",
    "#    im = Image.open('map_pngs/' + pngName + '.png')\n",
    "#    im_crop = im.crop((400, 400, 800, 1600))\n",
    "#    im_crop.save('map_pngs/' + pngName + '-cropped.png', quality=1000)\n",
    "#\n",
    "#def cropLegend(pngName):\n",
    "#    im = Image.open('map_pngs/' + pngName + '.png')\n",
    "#    im_crop = im.crop((480, 370, 830, 920))\n",
    "#    im_crop.save('map_pngs/' + pngName + '-cropped.png', quality=1000)"
   ]
  },
  {
   "cell_type": "code",
   "execution_count": 4,
   "metadata": {},
   "outputs": [],
   "source": [
    "#cropImage('vol19')\n",
    "#cropImage('vol50')\n",
    "#cropImage('vol19-truck')\n",
    "#cropImage('vol50-truck')\n",
    "#cropLegend('vol-legend')\n",
    "#cropLegend('vol-truck-legend')\n"
   ]
  },
  {
   "cell_type": "code",
   "execution_count": null,
   "metadata": {},
   "outputs": [],
   "source": []
  }
 ],
 "metadata": {
  "kernelspec": {
   "display_name": "base",
   "language": "python",
   "name": "python3"
  },
  "language_info": {
   "codemirror_mode": {
    "name": "ipython",
    "version": 3
   },
   "file_extension": ".py",
   "mimetype": "text/x-python",
   "name": "python",
   "nbconvert_exporter": "python",
   "pygments_lexer": "ipython3",
   "version": "3.9.15"
  },
  "orig_nbformat": 4
 },
 "nbformat": 4,
 "nbformat_minor": 2
}
