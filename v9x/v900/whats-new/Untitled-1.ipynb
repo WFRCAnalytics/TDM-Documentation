{
 "cells": [
  {
   "cell_type": "code",
   "execution_count": 7,
   "metadata": {},
   "outputs": [
    {
     "data": {
      "text/plain": [
       "Series([], Name: ModelVersion, dtype: bool)"
      ]
     },
     "execution_count": 7,
     "metadata": {},
     "output_type": "execute_result"
    }
   ],
   "source": [
    "#| echo: false\n",
    "import pandas as pd\n",
    "\n",
    "tdmOld = r\"A:\\1 - TDM\\3 - Model Dev\\1 - WF\\1 - Official Release\\v8x\\v8.3.2\\WF TDM v8.3.2 - 2022-02-04a\"\n",
    "tdmNew = r\"A:\\1 - TDM\\3 - Model Dev\\1 - WF\\1 - Official Release\\v9x\\v9.0\\WF TDM v9.0 - official\"\n",
    "#| echo: false\n",
    "import pandas as pd\n",
    "\n",
    "# County Control Totals\n",
    "fnConTotOld = tdmOld + r\"\\1_Inputs\\2_SEData\\_ControlTotals\\ControlTotal_SE_WF.csv\"\n",
    "fnConTotNew = tdmNew + r\"\\1_Inputs\\2_SEData\\_ControlTotals\\ControlTotal_SE_AllCounties.csv\"\n",
    "\n",
    "dfConTotOld = pd.read_csv(fnConTotOld)\n",
    "dfConTotOld = dfConTotOld.rename(columns={'CoName':'CO_NAME'})\n",
    "dfConTotOld['CO_NAME'] = dfConTotOld['CO_NAME'].str.replace(' County','')\n",
    "dfConTotOld['ModelVersion'] = 'v8.3.2'\n",
    "\n",
    "dfConTotNew = pd.read_csv(fnConTotNew)\n",
    "dfConTotNew = dfConTotNew[dfConTotNew['Subarea']=='1 - Wasatch Front'] # only WF area\n",
    "dfConTotNew['ModelVersion'] = 'v9.0.0'\n",
    "\n",
    "dfConTotCo = pd.concat([dfConTotOld,dfConTotNew])\n",
    "\n",
    "dfConTotWF = pd.read_csv('data/wf-controltotal.csv')\n",
    "dfConTotWF['ModelVersion'] = 'v9.0.0'\n",
    "dfConTotWF.loc[dfConTotWF['Source'] == ' CT_2017 ', 'ModelVersion'] == 'v8.3.2'\n",
    "\n"
   ]
  }
 ],
 "metadata": {
  "kernelspec": {
   "display_name": "base",
   "language": "python",
   "name": "python3"
  },
  "language_info": {
   "codemirror_mode": {
    "name": "ipython",
    "version": 3
   },
   "file_extension": ".py",
   "mimetype": "text/x-python",
   "name": "python",
   "nbconvert_exporter": "python",
   "pygments_lexer": "ipython3",
   "version": "3.9.15"
  },
  "orig_nbformat": 4
 },
 "nbformat": 4,
 "nbformat_minor": 2
}
